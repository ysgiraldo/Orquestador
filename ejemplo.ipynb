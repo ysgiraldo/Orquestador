{
 "cells": [
  {
   "cell_type": "code",
   "execution_count": 4,
   "metadata": {},
   "outputs": [
    {
     "name": "stdout",
     "output_type": "stream",
     "text": [
      "Error al conectar a PostgreSQL: 'utf-8' codec can't decode byte 0xab in position 90: invalid start byte\n"
     ]
    }
   ],
   "source": [
    "import psycopg2\n",
    "\n",
    "def connect_to_db():\n",
    "    try:\n",
    "        # Define los parámetros de conexión\n",
    "        connection = psycopg2.connect(\n",
    "            user=\"postgres\",\n",
    "            password=\"poderoso7\",\n",
    "            host=\"127.0.0.1\",\n",
    "            port=\"5432\",\n",
    "            database=\"pruebas_cali\"\n",
    "        )\n",
    "\n",
    "        cursor = connection.cursor()\n",
    "        cursor.execute(\"SET client_encoding TO 'UTF8';\")\n",
    "        print(\"Codificación del cliente configurada a UTF8\")\n",
    "\n",
    "        # Ejemplo de ejecución de una consulta\n",
    "        cursor.execute(\"SELECT version();\")\n",
    "        record = cursor.fetchone()\n",
    "        print(f\"Versión de PostgreSQL: {record}\")\n",
    "\n",
    "        # Asegúrate de cerrar el cursor y la conexión\n",
    "        cursor.close()\n",
    "        connection.close()\n",
    "        print(\"Conexión a la base de datos PostgreSQL cerrada\")\n",
    "\n",
    "    except (Exception, psycopg2.Error) as error:\n",
    "        print(f\"Error al conectar a PostgreSQL: {error}\")\n",
    "\n",
    "if __name__ == \"__main__\":\n",
    "    connect_to_db()\n",
    "\n",
    "\n"
   ]
  },
  {
   "cell_type": "markdown",
   "metadata": {},
   "source": []
  },
  {
   "cell_type": "code",
   "execution_count": null,
   "metadata": {},
   "outputs": [],
   "source": [
    "cursor = connection.cursor()\n",
    "cursor.execute(\"SELECT version();\")\n",
    "record = cursor.fetchone()\n",
    "print(f\"Versión de PostgreSQL: {record}\")"
   ]
  }
 ],
 "metadata": {
  "kernelspec": {
   "display_name": "Python 3",
   "language": "python",
   "name": "python3"
  },
  "language_info": {
   "codemirror_mode": {
    "name": "ipython",
    "version": 3
   },
   "file_extension": ".py",
   "mimetype": "text/x-python",
   "name": "python",
   "nbconvert_exporter": "python",
   "pygments_lexer": "ipython3",
   "version": "3.12.3"
  }
 },
 "nbformat": 4,
 "nbformat_minor": 2
}
